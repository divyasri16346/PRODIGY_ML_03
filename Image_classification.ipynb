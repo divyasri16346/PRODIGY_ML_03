{
  "nbformat": 4,
  "nbformat_minor": 0,
  "metadata": {
    "colab": {
      "provenance": []
    },
    "kernelspec": {
      "name": "python3",
      "display_name": "Python 3"
    },
    "language_info": {
      "name": "python"
    }
  },
  "cells": [
    {
      "cell_type": "markdown",
      "source": [
        "\n",
        "ML INTERN at PRODIGY INFOTECH\n",
        "\n",
        "Task 3: Implement a support vector machine(SVM) to classify images of cats and dogs from the Kaggle dataset.\n",
        "\n",
        "Dataset: https://www.kaggle.com/c/dogs-vs-cats/data"
      ],
      "metadata": {
        "id": "bDYDno1Roy5C"
      }
    },
    {
      "cell_type": "markdown",
      "source": [
        "Import Libraries"
      ],
      "metadata": {
        "id": "fMPBP0jbpRVc"
      }
    },
    {
      "cell_type": "code",
      "source": [
        "import os\n",
        "import numpy as np\n",
        "from sklearn.svm import SVC\n",
        "from sklearn.metrics import classification_report, confusion_matrix\n",
        "import matplotlib.pyplot as plt\n",
        "from tqdm import tqdm\n",
        "import joblib\n",
        "from sklearn.model_selection import GridSearchCV\n",
        "import cv2\n",
        "import seaborn as sns\n",
        "import time\n",
        "from sklearn.decomposition import PCA\n",
        "from sklearn.pipeline import Pipeline\n",
        "from sklearn.model_selection import train_test_split"
      ],
      "metadata": {
        "id": "4f5XR4uMzWBb"
      },
      "execution_count": 1,
      "outputs": []
    },
    {
      "cell_type": "markdown",
      "source": [
        "Load and explore dataset"
      ],
      "metadata": {
        "id": "xijTBFxspUvK"
      }
    },
    {
      "cell_type": "code",
      "execution_count": null,
      "metadata": {
        "id": "T4Im0Joeyz9d"
      },
      "outputs": [],
      "source": [
        "# extract dataset\n",
        "from zipfile import ZipFile\n",
        "\n",
        "dataset_train = \"train.zip\"\n",
        "\n",
        "with ZipFile(dataset_train, 'r') as zip:\n",
        "    zip.extractall()"
      ]
    },
    {
      "cell_type": "code",
      "source": [
        "folder_path = f\"Dataset/\"\n",
        "os.makedirs(folder_path, exist_ok=True)\n",
        "\n",
        "# define path\n",
        "confusion_image_path = os.path.join(folder_path, 'confusion matrix.png')\n",
        "classification_file_path = os.path.join(folder_path, 'classification_report.txt')\n",
        "model_file_path = os.path.join(folder_path, \"svm_model.pkl\")\n",
        "\n",
        "# Path dataset\n",
        "dataset_dir = \"Dataset/\"\n",
        "train_dir = os.path.join(dataset_dir, \"train\")\n",
        "test_dir = os.path.join(dataset_dir, \"test1\")"
      ],
      "metadata": {
        "id": "5jn0GCldy9Pg"
      },
      "execution_count": 7,
      "outputs": []
    },
    {
      "cell_type": "code",
      "source": [
        "# load data, preprocessing data, and labeling\n",
        "# dog = 1, cat = 0\n",
        "train_images = os.listdir(train_dir)\n",
        "features = []\n",
        "labels = []\n",
        "image_size = (50, 50)\n",
        "\n",
        "# Proses train images\n",
        "for image in tqdm(train_images, desc=\"Processing Train Images\"):\n",
        "    if image[0:3] == 'cat' :\n",
        "        label = 0\n",
        "    else :\n",
        "        label = 1\n",
        "    image_read = cv2.imread(train_dir+\"/\"+image)\n",
        "    image_resized = cv2.resize(image_read, image_size)\n",
        "    image_normalized = image_resized / 255.0\n",
        "    image_flatten = image_normalized.flatten()\n",
        "    features.append(image_flatten)\n",
        "    labels.append(label)"
      ],
      "metadata": {
        "id": "5g3ktIXMzi-y"
      },
      "execution_count": null,
      "outputs": []
    },
    {
      "cell_type": "code",
      "source": [
        "del train_images"
      ],
      "metadata": {
        "id": "SKJaCzV0zsog"
      },
      "execution_count": null,
      "outputs": []
    },
    {
      "cell_type": "code",
      "source": [
        "\n",
        "features = np.asarray(features)\n",
        "labels = np.asarray(labels)\n",
        "\n",
        "# train test split\n",
        "X_train, X_test, y_train, y_test = train_test_split(features, labels, test_size=0.2, shuffle=True, random_state=42)"
      ],
      "metadata": {
        "id": "dgBoH9Q2zw3G"
      },
      "execution_count": null,
      "outputs": []
    },
    {
      "cell_type": "code",
      "source": [
        "del features\n",
        "del labels"
      ],
      "metadata": {
        "id": "oJDU1OLUz17-"
      },
      "execution_count": null,
      "outputs": []
    },
    {
      "cell_type": "code",
      "source": [
        "# PCA, SVM, & Pipeline\n",
        "n_components = 0.8\n",
        "pca = PCA(n_components=n_components)\n",
        "svm = SVC()\n",
        "pca = PCA(n_components=n_components, random_state=42)\n",
        "pipeline = Pipeline([\n",
        "    ('pca', pca),\n",
        "    ('svm', svm)\n",
        "])"
      ],
      "metadata": {
        "id": "KDlmxUFxz6qR"
      },
      "execution_count": null,
      "outputs": []
    },
    {
      "cell_type": "code",
      "source": [
        "param_grid = {\n",
        "    'pca__n_components': [2, 1, 0.9, 0.8],\n",
        "    'svm__kernel': ['linear', 'rbf', 'poly', 'sigmoid'],\n",
        "}"
      ],
      "metadata": {
        "id": "VszE1y1Fz_pK"
      },
      "execution_count": null,
      "outputs": []
    },
    {
      "cell_type": "code",
      "source": [
        "# Hitung waktu training\n",
        "start_time = time.time()\n",
        "\n",
        "grid_search = GridSearchCV(pipeline, param_grid, cv=3, verbose=4)\n",
        "grid_search.fit(X_train, y_train)\n",
        "\n",
        "# Hitung waktu training\n",
        "end_time = time.time()"
      ],
      "metadata": {
        "id": "fhUmr1GN0C-j"
      },
      "execution_count": null,
      "outputs": []
    },
    {
      "cell_type": "code",
      "source": [
        "del X_train\n",
        "del y_train"
      ],
      "metadata": {
        "id": "ZqZwEyUA0PlG"
      },
      "execution_count": null,
      "outputs": []
    },
    {
      "cell_type": "code",
      "source": [
        "# Mendapatkan model terbaik dan parameter terbaik\n",
        "best_pipeline = grid_search.best_estimator_\n",
        "best_params = grid_search.best_params_\n",
        "best_score = grid_search.best_score_\n",
        "\n",
        "print(\"Best Parameters: \", best_params)\n",
        "print(\"Best Score: \", best_score)"
      ],
      "metadata": {
        "id": "MzhjOu8h0TZc"
      },
      "execution_count": null,
      "outputs": []
    },
    {
      "cell_type": "code",
      "source": [
        "# Evaluation on test dataset\n",
        "accuracy = best_pipeline.score(X_test, y_test)\n",
        "print(\"Accuracy:\", accuracy)"
      ],
      "metadata": {
        "id": "Qi7g7GXy0WDi"
      },
      "execution_count": null,
      "outputs": []
    },
    {
      "cell_type": "code",
      "source": [
        "y_pred = best_pipeline.predict(X_test)\n",
        "\n",
        "# classification report\n",
        "target_names = ['Cat', 'Dog']\n",
        "classification_rep = classification_report(y_test, y_pred, target_names=target_names)\n",
        "print(\"Classification Report:\\n\", classification_rep)\n",
        "\n",
        "with open(classification_file_path, 'w') as file:\n",
        "    file.write(classification_rep)"
      ],
      "metadata": {
        "id": "Oo-z9vu30Y4J"
      },
      "execution_count": null,
      "outputs": []
    },
    {
      "cell_type": "code",
      "source": [
        "# Confusion matrix\n",
        "cm = confusion_matrix(y_test, y_pred)\n",
        "sns.heatmap(cm, annot=True, fmt=\"d\", cmap=\"Blues\")\n",
        "plt.xlabel('Predicted labels')\n",
        "plt.ylabel('True labels')\n",
        "plt.savefig(confusion_image_path)\n",
        "plt.show()"
      ],
      "metadata": {
        "id": "e3yosc4u0tQ1"
      },
      "execution_count": null,
      "outputs": []
    }
  ]
}